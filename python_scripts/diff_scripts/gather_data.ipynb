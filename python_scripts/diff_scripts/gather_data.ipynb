{
 "cells": [
  {
   "cell_type": "code",
   "execution_count": 1,
   "metadata": {},
   "outputs": [],
   "source": [
    "import os\r\n",
    "\r\n",
    "os.chdir('./data')"
   ]
  },
  {
   "cell_type": "code",
   "execution_count": 2,
   "metadata": {},
   "outputs": [],
   "source": [
    "my_files = os.listdir()"
   ]
  },
  {
   "cell_type": "code",
   "execution_count": 3,
   "metadata": {},
   "outputs": [],
   "source": [
    "def preprocess(line):\r\n",
    "    line = line[line.find('[') + 1:]\r\n",
    "\r\n",
    "    repo = line[:line.find(',')]\r\n",
    "    line = line[line.find(',') + 1:]\r\n",
    "\r\n",
    "    commit = line[:line.find(']')]\r\n",
    "    line = line[line.find(']'):]\r\n",
    "\r\n",
    "    nodes = line[4:]\r\n",
    "\r\n",
    "    return repo, commit, nodes\r\n"
   ]
  },
  {
   "cell_type": "code",
   "execution_count": 4,
   "metadata": {},
   "outputs": [
    {
     "name": "stdout",
     "output_type": "stream",
     "text": [
      "boa-job96740-output.txt\n",
      "boa-job96749-output.txt\n",
      "boa-job96777-output.txt\n",
      "boa-job96779-output.txt\n",
      "boa-job96780-output.txt\n",
      "boa-job96783-output.txt\n",
      "boa-job96786-output.txt\n",
      "boa-job96791-output.txt\n",
      "boa-job96793-output.txt\n",
      "boa-job96795-output.txt\n",
      "boa-job96797-output.txt\n",
      "boa-job96805-output.txt\n",
      "boa-job96807-output.txt\n",
      "boa-job96809-output.txt\n",
      "boa-job96810-output.txt\n",
      "boa-job96813-output.txt\n"
     ]
    }
   ],
   "source": [
    "import pandas as pd\r\n",
    "\r\n",
    "diff_ref = pd.DataFrame()\r\n",
    "\r\n",
    "for my_file in my_files:\r\n",
    "    print(my_file)\r\n",
    "    with open(my_file, 'r') as inputFile:\r\n",
    "        data = inputFile.readlines()\r\n",
    "\r\n",
    "    output = []\r\n",
    "\r\n",
    "    for line in data:\r\n",
    "        output.append(list(preprocess(line)))\r\n",
    "\r\n",
    "    temp = pd.DataFrame(output)\r\n",
    "\r\n",
    "    diff_ref = pd.concat([diff_ref,temp])"
   ]
  },
  {
   "cell_type": "code",
   "execution_count": 5,
   "metadata": {},
   "outputs": [],
   "source": [
    "os.chdir('..')"
   ]
  },
  {
   "cell_type": "code",
   "execution_count": 6,
   "metadata": {},
   "outputs": [],
   "source": [
    "label_data = pd.read_csv('main_only_label.csv')"
   ]
  },
  {
   "cell_type": "code",
   "execution_count": 7,
   "metadata": {},
   "outputs": [],
   "source": [
    "label_data = label_data.loc[label_data['Comment-Removing Revision'] != \"STILL_EXISTS\"]"
   ]
  },
  {
   "cell_type": "code",
   "execution_count": 8,
   "metadata": {},
   "outputs": [],
   "source": [
    "def linkToRev(aLink):\r\n",
    "    return aLink[aLink.rfind('/') + 1:]"
   ]
  },
  {
   "cell_type": "code",
   "execution_count": 12,
   "metadata": {},
   "outputs": [
    {
     "name": "stdout",
     "output_type": "stream",
     "text": [
      "                                           0  \\\n",
      "0  AllenCellModeling/pytorch_integrated_cell   \n",
      "1  AllenCellModeling/pytorch_integrated_cell   \n",
      "2  AllenCellModeling/pytorch_integrated_cell   \n",
      "3  AllenCellModeling/pytorch_integrated_cell   \n",
      "4  AllenCellModeling/pytorch_integrated_cell   \n",
      "\n",
      "                                          1      2  \n",
      "0  0037ef6649ad613a1a45a74eb3713aab459c2975   72\\n  \n",
      "1  00e8920e879f2cf0af728f90e646b02a9fc6e2b1    0\\n  \n",
      "2  0177d9f8b70f26640e227ee19cdc2b810adc164e  405\\n  \n",
      "3  02a56ca0ddb3a519af982e1bb256a244caac767d    0\\n  \n",
      "4  031c95747573c76e6b7f46a4c6efd3824dcefdf0    0\\n  \n"
     ]
    }
   ],
   "source": [
    "print(diff_ref.head())\r\n",
    "\r\n",
    "\r\n",
    "output_df = pd.DataFrame()\r\n",
    "\r\n",
    "for index, row in label_data.iterrows():\r\n",
    "    temp_df = diff_ref.loc[diff_ref[0] == row['Repo Name']]\r\n",
    "    temp_df = diff_ref.loc[diff_ref[1] == linkToRev(row['Comment-Removing Revision'])]\r\n",
    "\r\n",
    "    #print(temp_df.head())\r\n",
    "    if not (temp_df.empty):\r\n",
    "        output_df = pd.concat([output_df, pd.DataFrame([row['Dataset ID'], temp_df[2].strip('\\n')])])\r\n",
    "    else:\r\n",
    "        output_df = pd.concat([output_df, pd.DataFrame([row['Dataset ID'], None])])\r\n"
   ]
  },
  {
   "cell_type": "code",
   "execution_count": null,
   "metadata": {},
   "outputs": [],
   "source": []
  }
 ],
 "metadata": {
  "kernelspec": {
   "display_name": "Python 3.9.2 64-bit",
   "name": "python392jvsc74a57bd025cb34a44e1aec59d61005e5b5cb2be175ef8bdd032a52ea0fc843facc2aa3e3"
  },
  "language_info": {
   "codemirror_mode": {
    "name": "ipython",
    "version": 3
   },
   "file_extension": ".py",
   "mimetype": "text/x-python",
   "name": "python",
   "nbconvert_exporter": "python",
   "pygments_lexer": "ipython3",
   "version": "3.9.2"
  },
  "metadata": {
   "interpreter": {
    "hash": "25cb34a44e1aec59d61005e5b5cb2be175ef8bdd032a52ea0fc843facc2aa3e3"
   }
  },
  "orig_nbformat": 2
 },
 "nbformat": 4,
 "nbformat_minor": 2
}