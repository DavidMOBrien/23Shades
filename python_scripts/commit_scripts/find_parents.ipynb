{
 "cells": [
  {
   "cell_type": "code",
   "execution_count": null,
   "metadata": {},
   "outputs": [],
   "source": [
    "import pandas as pd\r\n",
    "\r\n",
    "def constructGraph(repoName, parents_df):\r\n",
    "    graph = {}\r\n",
    "\r\n",
    "    repo_df = parents_df.loc[parents_df['Repo Name'] == repoName]\r\n",
    "\r\n",
    "    all_children = set(repo_df['Child'].tolist())\r\n",
    "\r\n",
    "    for child in all_children:\r\n",
    "        temp_df = repo_df.loc[repo_df['Child'] == child]\r\n",
    "\r\n",
    "        graph[child] = tuple(temp_df['Parent'].tolist())\r\n",
    "\r\n",
    "    return graph\r\n",
    "\r\n"
   ]
  },
  {
   "cell_type": "code",
   "execution_count": null,
   "metadata": {},
   "outputs": [],
   "source": [
    "def getRemovedComments():\r\n",
    "    df = pd.read_csv(\"main_only_label.csv\")\r\n",
    "\r\n",
    "    df = df.loc[df['Comment-Removing Revision'] != \"STILL_EXISTS\"]\r\n",
    "\r\n",
    "    df['Comment-Introducing Revision'] = df['Comment-Introducing Revision'].apply(removeURL)\r\n",
    "    df['Comment-Removing Revision'] = df['Comment-Removing Revision'].apply(removeURL)\r\n",
    "\r\n",
    "    return df[['Dataset ID', 'Repo Name','Comment-Introducing Revision','Comment-Removing Revision', 'Comment Text', 'Filename']]\r\n",
    "\r\n",
    "def removeURL(aString):\r\n",
    "    #print(aString)\r\n",
    "    result = aString.split(\"commit/\")\r\n",
    "\r\n",
    "    return result[1]\r\n",
    "\r\n",
    "print(getRemovedComments())"
   ]
  },
  {
   "cell_type": "code",
   "execution_count": null,
   "metadata": {},
   "outputs": [],
   "source": [
    "def goodMatch(nodeData, lookupID, removedData):\r\n",
    "    filtered = removedData[(removedData['Column3'] == lookupID) & (removedData['Column2'] == nodeData[1]) & (removedData['Column4'] == nodeData[2]) & (removedData['Column5'] == nodeData[3]) & (removedData['Column6'] == 'ADDED')]\r\n",
    "\r\n",
    "    return not filtered.empty"
   ]
  },
  {
   "cell_type": "code",
   "execution_count": null,
   "metadata": {},
   "outputs": [],
   "source": [
    "\r\n",
    "def BFS(graph, start, removedData):\r\n",
    "    queue = [(start[0], 0)]\r\n",
    "    visited = set()\r\n",
    "\r\n",
    "    while queue:\r\n",
    "        temp = queue.pop(0)\r\n",
    "        \r\n",
    "        if temp[0] not in visited:\r\n",
    "\r\n",
    "            if goodMatch(start, temp[0], removedData):\r\n",
    "                return temp\r\n",
    "\r\n",
    "            if temp[0] in graph:\r\n",
    "                for parent in graph[temp[0]]:\r\n",
    "                    queue.append((parent, temp[1] + 1))\r\n",
    "\r\n",
    "            visited.add(temp[0])"
   ]
  },
  {
   "cell_type": "code",
   "execution_count": null,
   "metadata": {},
   "outputs": [],
   "source": [
    "def getRemovalData():\r\n",
    "    return pd.read_csv('8-autogen_removed_sorted.csv')"
   ]
  },
  {
   "cell_type": "code",
   "execution_count": null,
   "metadata": {},
   "outputs": [],
   "source": [
    "def findLength():\r\n",
    "\r\n",
    "    removal_df = getRemovalData()\r\n",
    "\r\n",
    "    parents_df = pd.read_csv(\"parents_data.csv\")\r\n",
    "\r\n",
    "    parents_df[\"Child\"]= parents_df[\"Child\"].map(str)\r\n",
    "    parents_df[\"Parent\"]= parents_df[\"Parent\"].map(str)\r\n",
    "\r\n",
    "    comment_df = getRemovedComments()\r\n",
    "\r\n",
    "    my_output = []\r\n",
    "\r\n",
    "    for num,i in enumerate(range(len(comment_df))):\r\n",
    "\r\n",
    "        graph = constructGraph(comment_df.iloc[i,1], parents_df)\r\n",
    "\r\n",
    "        start_node = (comment_df.iloc[i,3], comment_df.iloc[i,1], comment_df.iloc[i,5], comment_df.iloc[i,4])\r\n",
    "\r\n",
    "        #print(start_node)\r\n",
    "\r\n",
    "        result = BFS(graph, start_node, removal_df)\r\n",
    "        my_output.append(result)\r\n",
    "        print(num, comment_df.iloc[i,0], result)\r\n",
    "    \r\n",
    "    return my_output\r\n",
    "\r\n",
    "my_output = findLength()"
   ]
  },
  {
   "cell_type": "code",
   "execution_count": null,
   "metadata": {},
   "outputs": [],
   "source": [
    "#replace the removal IDs with the removal IDs found via parent traversal\r\n",
    "\r\n",
    "import numpy as np\r\n",
    "\r\n",
    "comments_df = getRemovedComments()\r\n",
    "\r\n",
    "ref = {}\r\n",
    "\r\n",
    "for num,i in enumerate(range(len(comments_df))):\r\n",
    "    ref[comments_df.iloc[i,0]] = my_output[num]\r\n",
    "\r\n",
    "print(ref)\r\n",
    "\r\n",
    "label_df = pd.read_csv('main_only_label.csv')\r\n",
    "\r\n",
    "label_df['Number of Commits to Remove'] = np.nan\r\n",
    "\r\n",
    "for num, i in enumerate(range(len(comments_df))):\r\n",
    "    if label_df.iloc[i, 1] in ref:\r\n",
    "        if ref[label_df.iloc[i, 1]] == None:\r\n",
    "            label_df.iloc[i, 5] = 'UNTRACKABLE'\r\n",
    "            label_df.iloc[i, 12] = 'UNTRACKABLE'\r\n",
    "\r\n",
    "        else:\r\n",
    "            label_df.iloc[i, 5] = 'https://github.com/' + label_df.iloc[i, 2] + '/commit/' + ref[label_df.iloc[i, 1]][0]\r\n",
    "            label_df.iloc[i, 12] = ref[label_df.iloc[i, 1]][1]\r\n",
    "    else:\r\n",
    "        label_df.iloc[i, 12] = 'NOT A REMOVAL'"
   ]
  },
  {
   "cell_type": "code",
   "execution_count": null,
   "metadata": {},
   "outputs": [],
   "source": []
  }
 ],
 "metadata": {
  "kernelspec": {
   "display_name": "Python 3.9.2 64-bit",
   "name": "python392jvsc74a57bd025cb34a44e1aec59d61005e5b5cb2be175ef8bdd032a52ea0fc843facc2aa3e3"
  },
  "language_info": {
   "name": "python",
   "version": ""
  },
  "metadata": {
   "interpreter": {
    "hash": "25cb34a44e1aec59d61005e5b5cb2be175ef8bdd032a52ea0fc843facc2aa3e3"
   }
  },
  "orig_nbformat": 2
 },
 "nbformat": 4,
 "nbformat_minor": 2
}